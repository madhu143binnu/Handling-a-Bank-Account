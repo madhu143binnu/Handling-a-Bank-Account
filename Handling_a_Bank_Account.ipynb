{
  "nbformat": 4,
  "nbformat_minor": 0,
  "metadata": {
    "colab": {
      "provenance": [],
      "authorship_tag": "ABX9TyPFe7TesuLtP8JXUkbZHs5Z",
      "include_colab_link": true
    },
    "kernelspec": {
      "name": "python3",
      "display_name": "Python 3"
    },
    "language_info": {
      "name": "python"
    }
  },
  "cells": [
    {
      "cell_type": "markdown",
      "metadata": {
        "id": "view-in-github",
        "colab_type": "text"
      },
      "source": [
        "<a href=\"https://colab.research.google.com/github/madhu143binnu/Handling-a-Bank-Account/blob/main/Handling_a_Bank_Account.ipynb\" target=\"_parent\"><img src=\"https://colab.research.google.com/assets/colab-badge.svg\" alt=\"Open In Colab\"/></a>"
      ]
    },
    {
      "cell_type": "code",
      "execution_count": 2,
      "metadata": {
        "colab": {
          "base_uri": "https://localhost:8080/"
        },
        "id": "1qEXfTippKPY",
        "outputId": "f5287379-1111-4d06-9e3c-0cefe3520887"
      },
      "outputs": [
        {
          "output_type": "stream",
          "name": "stdout",
          "text": [
            "Account holder Name:Ashish\n",
            "Account Balance: 2000\n",
            "Account Balance after deposit: 2500\n",
            "Account Balance after withdrawal: 2400\n",
            "Interest for the balance amount:120.0\n"
          ]
        }
      ],
      "source": [
        "class Account:\n",
        "    def __init__(self, title=None, balance=0):\n",
        "        self.title = title\n",
        "        self.balance = balance\n",
        "\n",
        "    def withdrawal(self, amount):\n",
        "        self.balance-=amount\n",
        "\n",
        "    def deposit(self, amount):\n",
        "        self.balance+=amount\n",
        "    def getBalance(self):\n",
        "        return self.balance\n",
        "\n",
        "class SavingsAccount(Account):\n",
        "    def __init__(self, title=None, balance=0, interestRate=0):\n",
        "            super().__init__(title, balance)\n",
        "            self.interestRate = interestRate\n",
        "\n",
        "    def interestAmount(self):\n",
        "        return(self.interestRate*self.getBalance())/100\n",
        "\n",
        "obj1 = SavingsAccount(\"Ashish\", 2000, 5)\n",
        "print(f\"Account holder Name:{obj1.title}\")\n",
        "print(f\"Account Balance: {obj1.getBalance()}\")\n",
        "obj1.deposit(500)\n",
        "print(f\"Account Balance after deposit: {obj1.getBalance()}\")\n",
        "obj1.withdrawal(100)\n",
        "print(f\"Account Balance after withdrawal: {obj1.getBalance()}\")\n",
        "print(f\"Interest for the balance amount:{obj1.interestAmount()}\")"
      ]
    }
  ]
}